{
 "cells": [
  {
   "cell_type": "code",
   "execution_count": 1,
   "metadata": {},
   "outputs": [],
   "source": [
    "import numpy as np\n",
    "from scipy import linalg as la"
   ]
  },
  {
   "cell_type": "code",
   "execution_count": 3,
   "metadata": {},
   "outputs": [
    {
     "name": "stdout",
     "output_type": "stream",
     "text": [
      "[[0.8]\n",
      " [1. ]]\n"
     ]
    }
   ],
   "source": [
    "D = np.matrix([[1, 1], [0, 1], [-2, 1], [2, 1], [-1, 1]])\n",
    "y = np.matrix([3, 1, 0, 2, -1])\n",
    "y = y.T\n",
    "w = la.inv(D.T * D) * D.T * y\n",
    "\n",
    "print(w)"
   ]
  },
  {
   "cell_type": "code",
   "execution_count": 4,
   "metadata": {},
   "outputs": [
    {
     "name": "stdout",
     "output_type": "stream",
     "text": [
      "[[1.74418605]\n",
      " [1.0620155 ]]\n"
     ]
    }
   ],
   "source": [
    "D = np.matrix([[0, 0], [0,1], [0, 2], [0, 3], [1,0], [1,1], [1,2], [1,3], [2,0], [2,1], [2,2], [2,3]])\n",
    "y = np.matrix([1,3,2,3,1,4,5,4,4,5,4,7]).T\n",
    "\n",
    "w = la.inv(D.T * D) * D.T * y\n",
    "print(w)"
   ]
  }
 ],
 "metadata": {
  "kernelspec": {
   "display_name": "Python 3",
   "language": "python",
   "name": "python3"
  },
  "language_info": {
   "codemirror_mode": {
    "name": "ipython",
    "version": 3
   },
   "file_extension": ".py",
   "mimetype": "text/x-python",
   "name": "python",
   "nbconvert_exporter": "python",
   "pygments_lexer": "ipython3",
   "version": "3.12.3"
  }
 },
 "nbformat": 4,
 "nbformat_minor": 2
}
