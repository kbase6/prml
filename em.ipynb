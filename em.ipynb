{
 "cells": [
  {
   "cell_type": "code",
   "execution_count": 1,
   "metadata": {},
   "outputs": [],
   "source": [
    "import math"
   ]
  },
  {
   "cell_type": "code",
   "execution_count": 2,
   "metadata": {},
   "outputs": [],
   "source": [
    "# initial settings\n",
    "P_A = P_B = P_C = 1/3\n",
    "P_8A = 0.2\n",
    "P_6A = 0.3\n",
    "P_4A = 0.5\n",
    "\n",
    "P_8B = 0.4\n",
    "P_6B = 0.4\n",
    "P_4B = 0.2\n",
    "\n",
    "P_8C = 0.5\n",
    "P_6C = 0.2\n",
    "P_4C = 0.3\n",
    "\n",
    "dataset = [8, 6, 8, 4, 6, 6, 8, 4, 6, 8, 8, 6]"
   ]
  },
  {
   "cell_type": "code",
   "execution_count": 3,
   "metadata": {},
   "outputs": [],
   "source": [
    "P_8 = P_8A * P_A + P_8B * P_B + P_8C * P_C\n",
    "P_6 = P_6A * P_A + P_6B * P_B + P_6C * P_C\n",
    "P_4 = P_4A * P_A + P_4B * P_B + P_4C * P_C\n",
    "\n",
    "count8 = dataset.count(8)\n",
    "count6 = dataset.count(6)\n",
    "count4 = dataset.count(4)"
   ]
  },
  {
   "cell_type": "code",
   "execution_count": 5,
   "metadata": {},
   "outputs": [
    {
     "name": "stdout",
     "output_type": "stream",
     "text": [
      "P(A|8): 0.18\n",
      "P(A|6): 0.33\n",
      "P(A|4): 0.50\n",
      "Updated P(A): 0.30\n",
      "Updated P(8|A): 0.25\n",
      "Updated P(6|A): 0.47\n",
      "Updated P(4|A): 0.28\n"
     ]
    }
   ],
   "source": [
    "# class A\n",
    "\n",
    "P_A8 = P_A * P_8A / P_8\n",
    "P_A6 = P_A * P_6A / P_6\n",
    "P_A4 = P_A * P_4A / P_4\n",
    "\n",
    "print(f'P(A|8): {P_A8:.2f}')\n",
    "print(f'P(A|6): {P_A6:.2f}')\n",
    "print(f'P(A|4): {P_A4:.2f}')\n",
    "\n",
    "new_P_A = (P_A8 * count8 + P_A6 * count6 + P_A4 * count4) / len(dataset)\n",
    "print(f\"Updated P(A): {new_P_A:.2f}\")\n",
    "\n",
    "new_P_8A = (P_A8 * count8) / (P_A8 * count8 + P_A6 * count6 + P_A4 * count4)\n",
    "new_P_6A = (P_A6 * count6) / (P_A8 * count8 + P_A6 * count6 + P_A4 * count4)\n",
    "new_P_4A = (P_A4 * count4) / (P_A8 * count8 + P_A6 * count6 + P_A4 * count4)\n",
    "\n",
    "print(f\"Updated P(8|A): {new_P_8A:.2f}\")\n",
    "print(f\"Updated P(6|A): {new_P_6A:.2f}\")\n",
    "print(f\"Updated P(4|A): {new_P_4A:.2f}\")"
   ]
  },
  {
   "cell_type": "code",
   "execution_count": 6,
   "metadata": {},
   "outputs": [
    {
     "name": "stdout",
     "output_type": "stream",
     "text": [
      "P(B|8): 0.36\n",
      "P(B|6): 0.44\n",
      "P(B|4): 0.20\n",
      "Updated P(B): 0.37\n",
      "Updated P(8|B): 0.41\n",
      "Updated P(6|B): 0.50\n",
      "Updated P(4|B): 0.09\n"
     ]
    }
   ],
   "source": [
    "# class B\n",
    "\n",
    "P_B8 = P_B * P_8B / P_8\n",
    "P_B6 = P_B * P_6B / P_6\n",
    "P_B4 = P_B * P_4B / P_4\n",
    "\n",
    "print(f'P(B|8): {P_B8:.2f}')\n",
    "print(f'P(B|6): {P_B6:.2f}')\n",
    "print(f'P(B|4): {P_B4:.2f}')\n",
    "\n",
    "new_P_B = (P_B8 * count8 + P_B6 * count6 + P_B4 * count4) / len(dataset)\n",
    "print(f\"Updated P(B): {new_P_B:.2f}\")\n",
    "\n",
    "new_P_8B = (P_B8 * count8) / (P_B8 * count8 + P_B6 * count6 + P_B4 * count4)\n",
    "new_P_6B = (P_B6 * count6) / (P_B8 * count8 + P_B6 * count6 + P_B4 * count4)\n",
    "new_P_4B = (P_B4 * count4) / (P_B8 * count8 + P_B6 * count6 + P_B4 * count4)\n",
    "\n",
    "print(f\"Updated P(8|B): {new_P_8B:.2f}\")\n",
    "print(f\"Updated P(6|B): {new_P_6B:.2f}\")\n",
    "print(f\"Updated P(4|B): {new_P_4B:.2f}\")"
   ]
  },
  {
   "cell_type": "code",
   "execution_count": 7,
   "metadata": {},
   "outputs": [
    {
     "name": "stdout",
     "output_type": "stream",
     "text": [
      "P(C|8): 0.45\n",
      "P(C|6): 0.22\n",
      "P(C|4): 0.30\n",
      "Updated P(C): 0.33\n",
      "Updated P(8|C): 0.57\n",
      "Updated P(6|C): 0.28\n",
      "Updated P(4|C): 0.15\n"
     ]
    }
   ],
   "source": [
    "# class C\n",
    "\n",
    "P_C8 = P_C * P_8C / P_8\n",
    "P_C6 = P_C * P_6C / P_6\n",
    "P_C4 = P_C * P_4C / P_4\n",
    "\n",
    "print(f'P(C|8): {P_C8:.2f}')\n",
    "print(f'P(C|6): {P_C6:.2f}')\n",
    "print(f'P(C|4): {P_C4:.2f}')\n",
    "\n",
    "new_P_C = (P_C8 * count8 + P_C6 * count6 + P_C4 * count4) / len(dataset)\n",
    "print(f\"Updated P(C): {new_P_C:.2f}\")\n",
    "\n",
    "new_P_8C = (P_C8 * count8) / (P_C8 * count8 + P_C6 * count6 + P_C4 * count4)\n",
    "new_P_6C = (P_C6 * count6) / (P_C8 * count8 + P_C6 * count6 + P_C4 * count4)\n",
    "new_P_4C = (P_C4 * count4) / (P_C8 * count8 + P_C6 * count6 + P_C4 * count4)\n",
    "\n",
    "print(f\"Updated P(8|C): {new_P_8C:.2f}\")\n",
    "print(f\"Updated P(6|C): {new_P_6C:.2f}\")\n",
    "print(f\"Updated P(4|C): {new_P_4C:.2f}\")"
   ]
  }
 ],
 "metadata": {
  "kernelspec": {
   "display_name": "Python 3",
   "language": "python",
   "name": "python3"
  },
  "language_info": {
   "codemirror_mode": {
    "name": "ipython",
    "version": 3
   },
   "file_extension": ".py",
   "mimetype": "text/x-python",
   "name": "python",
   "nbconvert_exporter": "python",
   "pygments_lexer": "ipython3",
   "version": "3.12.3"
  }
 },
 "nbformat": 4,
 "nbformat_minor": 2
}
